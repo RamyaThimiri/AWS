{
 "cells": [
  {
   "cell_type": "code",
   "execution_count": 4,
   "metadata": {
    "collapsed": true
   },
   "outputs": [],
   "source": [
    "%matplotlib inline\n",
    "import sys\n",
    "import numpy as np\n",
    "import pandas as pd\n",
    "import matplotlib.pyplot as plt\n",
    "import math\n",
    "import os"
   ]
  },
  {
   "cell_type": "markdown",
   "metadata": {},
   "source": [
    "<h4>Hands-on: Linear Regression - Complex Shapes</h4>\n",
    "<b>Test 1</b><br>\n",
    "Input Features: x<br>\n",
    "Output/Target: y_noisy<br>\n",
    "Objective: Underfitting demo\n",
    "\n",
    "<b>Test 2</b><br>\n",
    "Input Features: x, x^2<br>\n",
    "Output/Target: y_noisy<br>\n",
    "Objective: How adding relevant features improves predicting accuracy<br>"
   ]
  },
  {
   "cell_type": "code",
   "execution_count": 5,
   "metadata": {
    "collapsed": false
   },
   "outputs": [],
   "source": [
    "def quad_func (x):\n",
    "    return 5*x**2 -23*x + 47"
   ]
  },
  {
   "cell_type": "code",
   "execution_count": 6,
   "metadata": {
    "collapsed": true
   },
   "outputs": [],
   "source": [
    "# Training Set + Eval Set: 200 samples (70%,30% split)\n",
    "# Test Set: 60 samples\n",
    "# Total: 260 samples"
   ]
  },
  {
   "cell_type": "code",
   "execution_count": 7,
   "metadata": {
    "collapsed": false
   },
   "outputs": [],
   "source": [
    "np.random.seed(5)\n",
    "samples = 260\n",
    "x_vals = pd.Series(np.random.rand(samples)*20)\n",
    "x2_vals = x_vals ** 2\n",
    "y_vals = x_vals.map(quad_func)\n",
    "y_noisy_vals = y_vals + np.random.randn(samples) * 50"
   ]
  },
  {
   "cell_type": "code",
   "execution_count": 8,
   "metadata": {
    "collapsed": false
   },
   "outputs": [],
   "source": [
    "df = pd.DataFrame({'x':x_vals, 'x2': x2_vals ,'y':y_vals, 'y_noisy':y_noisy_vals})"
   ]
  },
  {
   "cell_type": "code",
   "execution_count": 9,
   "metadata": {
    "collapsed": false,
    "scrolled": true
   },
   "outputs": [
    {
     "data": {
      "text/html": [
       "<div>\n",
       "<table border=\"1\" class=\"dataframe\">\n",
       "  <thead>\n",
       "    <tr style=\"text-align: right;\">\n",
       "      <th></th>\n",
       "      <th>x</th>\n",
       "      <th>x2</th>\n",
       "      <th>y</th>\n",
       "      <th>y_noisy</th>\n",
       "    </tr>\n",
       "  </thead>\n",
       "  <tbody>\n",
       "    <tr>\n",
       "      <th>0</th>\n",
       "      <td>4.439863</td>\n",
       "      <td>19.712387</td>\n",
       "      <td>43.445077</td>\n",
       "      <td>88.950606</td>\n",
       "    </tr>\n",
       "    <tr>\n",
       "      <th>1</th>\n",
       "      <td>17.414646</td>\n",
       "      <td>303.269900</td>\n",
       "      <td>1162.812637</td>\n",
       "      <td>1193.704875</td>\n",
       "    </tr>\n",
       "    <tr>\n",
       "      <th>2</th>\n",
       "      <td>4.134383</td>\n",
       "      <td>17.093124</td>\n",
       "      <td>37.374807</td>\n",
       "      <td>62.355709</td>\n",
       "    </tr>\n",
       "    <tr>\n",
       "      <th>3</th>\n",
       "      <td>18.372218</td>\n",
       "      <td>337.538400</td>\n",
       "      <td>1312.130983</td>\n",
       "      <td>1254.553770</td>\n",
       "    </tr>\n",
       "    <tr>\n",
       "      <th>4</th>\n",
       "      <td>9.768224</td>\n",
       "      <td>95.418196</td>\n",
       "      <td>299.421832</td>\n",
       "      <td>268.896012</td>\n",
       "    </tr>\n",
       "  </tbody>\n",
       "</table>\n",
       "</div>"
      ],
      "text/plain": [
       "           x          x2            y      y_noisy\n",
       "0   4.439863   19.712387    43.445077    88.950606\n",
       "1  17.414646  303.269900  1162.812637  1193.704875\n",
       "2   4.134383   17.093124    37.374807    62.355709\n",
       "3  18.372218  337.538400  1312.130983  1254.553770\n",
       "4   9.768224   95.418196   299.421832   268.896012"
      ]
     },
     "execution_count": 9,
     "metadata": {},
     "output_type": "execute_result"
    }
   ],
   "source": [
    "df.head()"
   ]
  },
  {
   "cell_type": "code",
   "execution_count": 10,
   "metadata": {
    "collapsed": false
   },
   "outputs": [
    {
     "data": {
      "text/html": [
       "<div>\n",
       "<table border=\"1\" class=\"dataframe\">\n",
       "  <thead>\n",
       "    <tr style=\"text-align: right;\">\n",
       "      <th></th>\n",
       "      <th>x</th>\n",
       "      <th>x2</th>\n",
       "      <th>y</th>\n",
       "      <th>y_noisy</th>\n",
       "    </tr>\n",
       "  </thead>\n",
       "  <tbody>\n",
       "    <tr>\n",
       "      <th>x</th>\n",
       "      <td>1.000000</td>\n",
       "      <td>0.968304</td>\n",
       "      <td>0.948299</td>\n",
       "      <td>0.940940</td>\n",
       "    </tr>\n",
       "    <tr>\n",
       "      <th>x2</th>\n",
       "      <td>0.968304</td>\n",
       "      <td>1.000000</td>\n",
       "      <td>0.997515</td>\n",
       "      <td>0.991770</td>\n",
       "    </tr>\n",
       "    <tr>\n",
       "      <th>y</th>\n",
       "      <td>0.948299</td>\n",
       "      <td>0.997515</td>\n",
       "      <td>1.000000</td>\n",
       "      <td>0.994777</td>\n",
       "    </tr>\n",
       "    <tr>\n",
       "      <th>y_noisy</th>\n",
       "      <td>0.940940</td>\n",
       "      <td>0.991770</td>\n",
       "      <td>0.994777</td>\n",
       "      <td>1.000000</td>\n",
       "    </tr>\n",
       "  </tbody>\n",
       "</table>\n",
       "</div>"
      ],
      "text/plain": [
       "                x        x2         y   y_noisy\n",
       "x        1.000000  0.968304  0.948299  0.940940\n",
       "x2       0.968304  1.000000  0.997515  0.991770\n",
       "y        0.948299  0.997515  1.000000  0.994777\n",
       "y_noisy  0.940940  0.991770  0.994777  1.000000"
      ]
     },
     "execution_count": 10,
     "metadata": {},
     "output_type": "execute_result"
    }
   ],
   "source": [
    "df.corr()"
   ]
  },
  {
   "cell_type": "code",
   "execution_count": 11,
   "metadata": {
    "collapsed": false
   },
   "outputs": [
    {
     "data": {
      "text/plain": [
       "<matplotlib.legend.Legend at 0x9521240>"
      ]
     },
     "execution_count": 11,
     "metadata": {},
     "output_type": "execute_result"
    },
    {
     "data": {
      "image/png": "[encoded data removed]",
      "text/plain": [
       "<matplotlib.figure.Figure at 0x913db00>"
      ]
     },
     "metadata": {},
     "output_type": "display_data"
    }
   ],
   "source": [
    "plt.scatter(x=df['x'],y=df['y'],color='r',label='y',)\n",
    "plt.scatter(x=df['x'],y=df['y_noisy'],color='b',label='y noisy', marker='+')\n",
    "plt.xlabel('x')\n",
    "plt.ylabel('Target Attribute')\n",
    "plt.grid(True)\n",
    "plt.legend()"
   ]
  },
  {
   "cell_type": "code",
   "execution_count": 12,
   "metadata": {
    "collapsed": false
   },
   "outputs": [],
   "source": [
    "data_path = r'C:\\AWSMLCourse\\Data\\RegressionExamples\\quadratic'"
   ]
  },
  {
   "cell_type": "code",
   "execution_count": 13,
   "metadata": {
    "collapsed": false
   },
   "outputs": [],
   "source": [
    "df.to_csv(os.path.join(data_path,'quadratic_example_all.csv'),index=True,index_label='Row')"
   ]
  },
  {
   "cell_type": "markdown",
   "metadata": {},
   "source": [
    "<h4>Training and Evaluation Set</h4>\n",
    "Training Set 1: RowNumber, x, y_noisy<br>\n",
    "Training Set 2: RowNumber, x, x**2, y_noisy"
   ]
  },
  {
   "cell_type": "code",
   "execution_count": 14,
   "metadata": {
    "collapsed": false
   },
   "outputs": [],
   "source": [
    "df[df.index < 200].to_csv(os.path.join(data_path,'quadratic_example_train_underfit.csv'),\n",
    "                          index=True,index_label='Row',\n",
    "                         columns=['x','y_noisy'])"
   ]
  },
  {
   "cell_type": "code",
   "execution_count": 15,
   "metadata": {
    "collapsed": true
   },
   "outputs": [],
   "source": [
    "df[df.index < 200].to_csv(os.path.join(data_path,'quadratic_example_train_normal.csv'),\n",
    "                          index=True,index_label='Row',\n",
    "                         columns=['x','x2','y_noisy'])"
   ]
  },
  {
   "cell_type": "code",
   "execution_count": 16,
   "metadata": {
    "collapsed": true
   },
   "outputs": [],
   "source": [
    "df.to_csv(\n",
    "    os.path.join(data_path,'quadratic_example_test_all_underfit.csv'),\n",
    "    index=True,index_label='Row', columns=['x'])"
   ]
  },
  {
   "cell_type": "code",
   "execution_count": 17,
   "metadata": {
    "collapsed": false
   },
   "outputs": [],
   "source": [
    "\n",
    "df.to_csv(\n",
    "    os.path.join(data_path,'quadratic_example_test_all_normal.csv'),\n",
    "    index=True,index_label='Row', columns=['x','x2'])"
   ]
  },
  {
   "cell_type": "code",
   "execution_count": 28,
   "metadata": {
    "collapsed": false
   },
   "outputs": [],
   "source": [
    "# Pull Predictions\n",
    "# Prediction without quadratic term\n",
    "df = pd.read_csv(os.path.join(data_path,'quadratic_example_all.csv'), index_col='Row')\n",
    "df_predicted_underfit = pd.read_csv(os.path.join(data_path,'output_underfit',\n",
    "                                        'bp-CDvmXN1MXpO-quadratic_example_test_all_underfit.csv.gz'))\n",
    "df_predicted_underfit.columns = [\"Row\",\"y_predicted\"]"
   ]
  },
  {
   "cell_type": "code",
   "execution_count": 29,
   "metadata": {
    "collapsed": false
   },
   "outputs": [
    {
     "data": {
      "text/plain": [
       "<matplotlib.legend.Legend at 0x989dc88>"
      ]
     },
     "execution_count": 29,
     "metadata": {},
     "output_type": "execute_result"
    },
    {
     "data": {
      "image/png": "[encoded data removed]",
      "text/plain": [
       "<matplotlib.figure.Figure at 0x9709908>"
      ]
     },
     "metadata": {},
     "output_type": "display_data"
    }
   ],
   "source": [
    "plt.scatter(x=df.x,y=df.y_noisy,color='b',label='actual', marker='+')\n",
    "plt.scatter(x=df.x ,y=df_predicted_underfit.y_predicted ,color='g',label='Fit (x)',marker='^')\n",
    "plt.title('Quadratic - underfit')\n",
    "plt.xlabel('x')\n",
    "plt.ylabel('Target Attribute')\n",
    "plt.grid(True)\n",
    "plt.legend()"
   ]
  },
  {
   "cell_type": "markdown",
   "metadata": {},
   "source": [
    "Test 1:\n",
    "Training RMSE: 385.18, Evaluation RMSE: 257.89, Baseline RMSE: 437.31\n",
    "\n",
    "RMSE for the model is large and closer to baseline"
   ]
  },
  {
   "cell_type": "code",
   "execution_count": 20,
   "metadata": {
    "collapsed": false
   },
   "outputs": [
    {
     "data": {
      "image/png": "[encoded data removed]",
      "text/plain": [
       "<matplotlib.figure.Figure at 0x95557f0>"
      ]
     },
     "metadata": {},
     "output_type": "display_data"
    }
   ],
   "source": [
    "plt.boxplot([df.y_noisy,df_predicted_underfit.y_predicted], \n",
    "            labels=['actual','predicted-underfit'])\n",
    "plt.title('Box Plot - Actual, Predicted')\n",
    "plt.ylabel('y')\n",
    "plt.grid(True)"
   ]
  },
  {
   "cell_type": "code",
   "execution_count": 21,
   "metadata": {
    "collapsed": false
   },
   "outputs": [
    {
     "data": {
      "text/plain": [
       "count     260.000000\n",
       "mean      492.434283\n",
       "std       478.849813\n",
       "min      -112.575294\n",
       "25%        77.826912\n",
       "50%       327.241317\n",
       "75%       874.702202\n",
       "max      1664.910364\n",
       "Name: y_noisy, dtype: float64"
      ]
     },
     "execution_count": 21,
     "metadata": {},
     "output_type": "execute_result"
    }
   ],
   "source": [
    "df.y_noisy.describe()"
   ]
  },
  {
   "cell_type": "code",
   "execution_count": 22,
   "metadata": {
    "collapsed": false
   },
   "outputs": [
    {
     "data": {
      "text/plain": [
       "count     260.000000\n",
       "mean      662.497185\n",
       "std       409.042715\n",
       "min       -40.808170\n",
       "25%       301.881100\n",
       "50%       675.825400\n",
       "75%      1036.082500\n",
       "max      1354.002000\n",
       "Name: y_predicted, dtype: float64"
      ]
     },
     "execution_count": 22,
     "metadata": {},
     "output_type": "execute_result"
    }
   ],
   "source": [
    "df_predicted_underfit.y_predicted.describe()"
   ]
  },
  {
   "cell_type": "code",
   "execution_count": 23,
   "metadata": {
    "collapsed": true
   },
   "outputs": [],
   "source": [
    "df_predicted_normal = pd.read_csv(os.path.join(data_path,'output_normal',\n",
    "                                        'bp-2X1xm6slBEf-quadratic_example_test_all_normal.csv.gz'))\n",
    "df_predicted_normal.columns = [\"Row\",\"y_predicted\"]"
   ]
  },
  {
   "cell_type": "code",
   "execution_count": 24,
   "metadata": {
    "collapsed": false
   },
   "outputs": [
    {
     "data": {
      "text/plain": [
       "<matplotlib.text.Text at 0x97459e8>"
      ]
     },
     "execution_count": 24,
     "metadata": {},
     "output_type": "execute_result"
    },
    {
     "data": {
      "image/png": "[encoded data removed]",
      "text/plain": [
       "<matplotlib.figure.Figure at 0x95892e8>"
      ]
     },
     "metadata": {},
     "output_type": "display_data"
    }
   ],
   "source": [
    "plt.scatter(x=df.x,y=df.y_noisy,color='b',label='actual', marker='+')\n",
    "plt.scatter(x=df.x ,y=df_predicted_underfit.y_predicted ,color='g',label='Fit (x)',marker='^')\n",
    "plt.scatter(x=df.x ,y=df_predicted_normal.y_predicted ,color='r',label='Fit (x,x^2)')\n",
    "plt.title('Quadratic - normal fit')\n",
    "plt.grid(True)\n",
    "plt.xlabel('x')\n",
    "plt.ylabel('Target Attribute')\n",
    "#plt.legend()"
   ]
  },
  {
   "cell_type": "markdown",
   "metadata": {},
   "source": [
    "Test 1:\n",
    "Training RMSE: 385.18, Evaluation RMSE: 257.89, Baseline RMSE: 437.31\n",
    "\n",
    "Test 2:\n",
    "Training RMSE: 132.20, Evaluation RMSE: 63.68, Baseline RMSE: 437.31\n",
    "\n",
    "Test 2 RMSE is much better compared to baseline. Do note that we added approx -50 to 50 noise value to y"
   ]
  },
  {
   "cell_type": "code",
   "execution_count": 25,
   "metadata": {
    "collapsed": false,
    "scrolled": true
   },
   "outputs": [
    {
     "data": {
      "image/png": "[encoded data removed]",
      "text/plain": [
       "<matplotlib.figure.Figure at 0x96aada0>"
      ]
     },
     "metadata": {},
     "output_type": "display_data"
    }
   ],
   "source": [
    "plt.boxplot([df.y_noisy,df_predicted_underfit.y_predicted,df_predicted_normal.y_predicted], \n",
    "            labels=['actual','predicted-underfit','predicted-normal'])\n",
    "plt.title('Box Plot - Actual, Predicted')\n",
    "plt.ylabel('y')\n",
    "plt.grid(True)"
   ]
  },
  {
   "cell_type": "code",
   "execution_count": 26,
   "metadata": {
    "collapsed": false
   },
   "outputs": [
    {
     "data": {
      "text/html": [
       "<div>\n",
       "<table border=\"1\" class=\"dataframe\">\n",
       "  <thead>\n",
       "    <tr style=\"text-align: right;\">\n",
       "      <th></th>\n",
       "      <th>Row</th>\n",
       "      <th>y_predicted</th>\n",
       "    </tr>\n",
       "  </thead>\n",
       "  <tbody>\n",
       "    <tr>\n",
       "      <th>0</th>\n",
       "      <td>0</td>\n",
       "      <td>269.2752</td>\n",
       "    </tr>\n",
       "    <tr>\n",
       "      <th>1</th>\n",
       "      <td>1</td>\n",
       "      <td>1177.0090</td>\n",
       "    </tr>\n",
       "    <tr>\n",
       "      <th>2</th>\n",
       "      <td>2</td>\n",
       "      <td>247.9033</td>\n",
       "    </tr>\n",
       "    <tr>\n",
       "      <th>3</th>\n",
       "      <td>3</td>\n",
       "      <td>1244.0020</td>\n",
       "    </tr>\n",
       "    <tr>\n",
       "      <th>4</th>\n",
       "      <td>4</td>\n",
       "      <td>642.0548</td>\n",
       "    </tr>\n",
       "  </tbody>\n",
       "</table>\n",
       "</div>"
      ],
      "text/plain": [
       "   Row  y_predicted\n",
       "0    0     269.2752\n",
       "1    1    1177.0090\n",
       "2    2     247.9033\n",
       "3    3    1244.0020\n",
       "4    4     642.0548"
      ]
     },
     "execution_count": 26,
     "metadata": {},
     "output_type": "execute_result"
    }
   ],
   "source": [
    "df_predicted_underfit.head()"
   ]
  },
  {
   "cell_type": "code",
   "execution_count": 27,
   "metadata": {
    "collapsed": false
   },
   "outputs": [
    {
     "data": {
      "text/html": [
       "<div>\n",
       "<table border=\"1\" class=\"dataframe\">\n",
       "  <thead>\n",
       "    <tr style=\"text-align: right;\">\n",
       "      <th></th>\n",
       "      <th>Row</th>\n",
       "      <th>y_predicted</th>\n",
       "    </tr>\n",
       "  </thead>\n",
       "  <tbody>\n",
       "    <tr>\n",
       "      <th>0</th>\n",
       "      <td>0</td>\n",
       "      <td>53.94965</td>\n",
       "    </tr>\n",
       "    <tr>\n",
       "      <th>1</th>\n",
       "      <td>1</td>\n",
       "      <td>1201.89800</td>\n",
       "    </tr>\n",
       "    <tr>\n",
       "      <th>2</th>\n",
       "      <td>2</td>\n",
       "      <td>44.75586</td>\n",
       "    </tr>\n",
       "    <tr>\n",
       "      <th>3</th>\n",
       "      <td>3</td>\n",
       "      <td>1345.26700</td>\n",
       "    </tr>\n",
       "    <tr>\n",
       "      <th>4</th>\n",
       "      <td>4</td>\n",
       "      <td>346.27510</td>\n",
       "    </tr>\n",
       "  </tbody>\n",
       "</table>\n",
       "</div>"
      ],
      "text/plain": [
       "   Row  y_predicted\n",
       "0    0     53.94965\n",
       "1    1   1201.89800\n",
       "2    2     44.75586\n",
       "3    3   1345.26700\n",
       "4    4    346.27510"
      ]
     },
     "execution_count": 27,
     "metadata": {},
     "output_type": "execute_result"
    }
   ],
   "source": [
    "df_predicted_normal.head()"
   ]
  },
  {
   "cell_type": "markdown",
   "metadata": {},
   "source": [
    "<h4>Summary</h4>\n",
    "1. Underfitting occurs when model does not accurately capture relationship between features and target\n",
    "2. Underfitting would cause large training errors and evaluation errors.<br>\n",
    "Training RMSE: 385.1816 Evaluation RMSE: 257.8979. Baseline RMSE:437.311\n",
    "3. Evaluation Summary - Prediction overestimation and underestimation histogram provided by AWS ML console provides important clues on how the model is behaving.  Ideally, under-estimation and over-estimation needs to be balanced and centered around 0.\n",
    "4. Box plot also highlights distribution differences between predicted and actual\n",
    "5. To address underfitting, add higher order polynomials or more relevant features to capture complex relationship<br>\n",
    "Training RMSE: 132.2032 Evaluation RMSE: 63.6847. Baseline RMSE:437.311\n",
    "6. When working with datasets containing 100s or even 1000s of features, it important to rely on these metrics and distribution to gain insight into model performance."
   ]
  },
  {
   "cell_type": "code",
   "execution_count": null,
   "metadata": {
    "collapsed": true
   },
   "outputs": [],
   "source": []
  },
  {
   "cell_type": "code",
   "execution_count": null,
   "metadata": {
    "collapsed": true
   },
   "outputs": [],
   "source": []
  }
 ],
 "metadata": {
  "kernelspec": {
   "display_name": "Python 3",
   "language": "python",
   "name": "python3"
  },
  "language_info": {
   "codemirror_mode": {
    "name": "ipython",
    "version": 3
   },
   "file_extension": ".py",
   "mimetype": "text/x-python",
   "name": "python",
   "nbconvert_exporter": "python",
   "pygments_lexer": "ipython3",
   "version": "3.6.0"
  }
 },
 "nbformat": 4,
 "nbformat_minor": 0
}
